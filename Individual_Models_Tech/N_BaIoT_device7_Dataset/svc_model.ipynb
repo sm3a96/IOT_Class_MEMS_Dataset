{
 "cells": [
  {
   "cell_type": "code",
   "execution_count": 1,
   "metadata": {},
   "outputs": [
    {
     "name": "stderr",
     "output_type": "stream",
     "text": [
      "2024-05-28 12:06:05.487667: I tensorflow/core/util/port.cc:113] oneDNN custom operations are on. You may see slightly different numerical results due to floating-point round-off errors from different computation orders. To turn them off, set the environment variable `TF_ENABLE_ONEDNN_OPTS=0`.\n",
      "2024-05-28 12:06:05.772792: I tensorflow/core/platform/cpu_feature_guard.cc:210] This TensorFlow binary is optimized to use available CPU instructions in performance-critical operations.\n",
      "To enable the following instructions: AVX2 AVX512F AVX512_VNNI FMA, in other operations, rebuild TensorFlow with the appropriate compiler flags.\n",
      "2024-05-28 12:06:06.670544: W tensorflow/compiler/tf2tensorrt/utils/py_utils.cc:38] TF-TRT Warning: Could not find TensorRT\n"
     ]
    }
   ],
   "source": [
    "# -*- coding: utf-8 -*- \n",
    "# This code is written in Python 3.7. To install the required packages, run the following commands:\n",
    "# pip install pandas numpy matplotlib seaborn scikit-learn sympy\n",
    "# This code is applicable to the N_BaIoT dataset. \n",
    "# implemented svm Classifier. \n",
    "\n",
    "import pandas as pd\n",
    "import matplotlib.pyplot as plt\n",
    "from sklearn.metrics import accuracy_score, classification_report,confusion_matrix\n",
    "from sklearn.model_selection import train_test_split\n",
    "import tensorflow as tf\n",
    "import seaborn as sns\n",
    "import time\n",
    "import numpy as np\n",
    "from sklearn.svm import SVC\n"
   ]
  },
  {
   "cell_type": "code",
   "execution_count": 2,
   "metadata": {},
   "outputs": [
    {
     "name": "stdout",
     "output_type": "stream",
     "text": [
      "<class 'pandas.core.frame.DataFrame'>\n",
      "Index: 115936 entries, 0 to 119999\n",
      "Columns: 116 entries, MI_dir_L5_weight to label\n",
      "dtypes: float64(115), int64(1)\n",
      "memory usage: 103.5 MB\n"
     ]
    }
   ],
   "source": [
    "\n",
    "df = pd.read_csv('/home/ibibers@ads.iu.edu/IOT_Datasets/device7.csv')\n",
    "\n",
    "\n",
    "# Drop duplicates\n",
    "df = df.drop_duplicates(keep='first')\n",
    "\n",
    "# Drop columns that have just one unique value\n",
    "one_value = df.columns[df.nunique() == 1]\n",
    "df = df.drop(columns = one_value, axis=1)\n",
    "\n",
    "df.info()"
   ]
  },
  {
   "cell_type": "code",
   "execution_count": 3,
   "metadata": {},
   "outputs": [
    {
     "name": "stdout",
     "output_type": "stream",
     "text": [
      " Extract subsample of data: \n",
      "label\n",
      "4    20000\n",
      "3    20000\n",
      "6    20000\n",
      "1    19623\n",
      "5    18157\n",
      "2    18156\n",
      "Name: count, dtype: int64\n"
     ]
    }
   ],
   "source": [
    "\n",
    "\n",
    "# Extract subsample of data\n",
    "print (\" Extract subsample of data: \")\n",
    "print(df['label'].value_counts())"
   ]
  },
  {
   "cell_type": "code",
   "execution_count": 4,
   "metadata": {},
   "outputs": [],
   "source": [
    "dropped_df = ['label']\n",
    "X = df.drop(dropped_df, axis=1)\n",
    "y = df['label']\n"
   ]
  },
  {
   "cell_type": "code",
   "execution_count": 5,
   "metadata": {},
   "outputs": [
    {
     "name": "stdout",
     "output_type": "stream",
     "text": [
      "INFO:tensorflow:Using MirroredStrategy with devices ('/job:localhost/replica:0/task:0/device:CPU:0',)\n"
     ]
    },
    {
     "name": "stderr",
     "output_type": "stream",
     "text": [
      "2024-05-28 12:06:09.751254: W tensorflow/core/common_runtime/gpu/gpu_device.cc:2251] Cannot dlopen some GPU libraries. Please make sure the missing libraries mentioned above are installed properly if you would like to use GPU. Follow the guide at https://www.tensorflow.org/install/gpu for how to download and setup the required libraries for your platform.\n",
      "Skipping registering GPU devices...\n"
     ]
    }
   ],
   "source": [
    "start_time = time.time()\n",
    "# Initial train test split set and split the dataset into training and testing sets\n",
    "X_train, X_test, y_train, y_test = train_test_split(X, y, test_size=0.3, random_state=42, stratify=y)\n",
    "\n",
    "# Initialize MirroredStrategy for GPU acceleration\n",
    "strategy = tf.distribute.MirroredStrategy()\n",
    "\n",
    "with strategy.scope():\n",
    "    # Initialize SVM classifier\n",
    "    svm_classifier = SVC(kernel='linear', C=1.0, random_state=42)\n",
    "\n",
    "\n",
    "    start_train_time = time.time()\n",
    "    # Train DT\n",
    "    svm_classifier.fit(X_train, y_train)\n",
    "    train_time = time.time() - start_train_time\n",
    "\n",
    "    start_pred_time = time.time()    \n",
    "    # Make predictions \n",
    "    y_pred_encoded = svm_classifier.predict(X_test)\n",
    "    pred_time = time.time() - start_pred_time\n",
    "\n",
    "total_time = time.time() - start_time"
   ]
  },
  {
   "cell_type": "code",
   "execution_count": null,
   "metadata": {},
   "outputs": [],
   "source": [
    "print(\"Time taken for training:{:f} seconds\".format(train_time))\n",
    "print(\"Time taken for prediction: {:f} seconds\".format(pred_time))\n",
    "print(\"Total time taken:{:f} seconds\".format(total_time))"
   ]
  },
  {
   "cell_type": "code",
   "execution_count": null,
   "metadata": {},
   "outputs": [],
   "source": [
    "# Evaluate the model\n",
    "accuracy = accuracy_score(y_test, y_pred_encoded)\n",
    "print(f\"Accuracy: {accuracy}\")"
   ]
  },
  {
   "cell_type": "code",
   "execution_count": null,
   "metadata": {},
   "outputs": [],
   "source": [
    "#  Classificaiton Report \n",
    "print(\"\\nClassification Report:\")\n",
    "print(classification_report(y_test, y_pred_encoded))"
   ]
  },
  {
   "cell_type": "code",
   "execution_count": null,
   "metadata": {},
   "outputs": [],
   "source": [
    "# Generate confusion matrix\n",
    "conf_matrix = confusion_matrix(y_test, y_pred_encoded)\n",
    "plt.figure(figsize=(8, 6))\n",
    "sns.heatmap(conf_matrix, annot=True, fmt='d', cmap='Blues', cbar=False)\n",
    "plt.xlabel('Predicted Labels')\n",
    "plt.ylabel('True Labels')\n",
    "plt.title('Confusion Matrix')\n",
    "plt.show()"
   ]
  },
  {
   "cell_type": "code",
   "execution_count": null,
   "metadata": {},
   "outputs": [],
   "source": [
    "from sklearn.inspection import permutation_importance\n",
    "\n",
    "# Compute permutation importance\n",
    "perm_importance = permutation_importance(svm_classifier, X_test, y_test, n_repeats=10, random_state=42)\n",
    "\n",
    "# Get feature importances\n",
    "feature_importance = perm_importance.importances_mean\n",
    "\n",
    "# Map feature importances to feature names\n",
    "feature_names = X.columns\n",
    "\n",
    "# Create a bar plot of feature importances\n",
    "plt.figure(figsize=(10, 6))\n",
    "plt.barh(feature_names, feature_importance, color='skyblue')\n",
    "plt.xlabel('Permutation Importance')\n",
    "plt.ylabel('Features')\n",
    "plt.title('Feature Importances (Permutation Importance)')\n",
    "plt.gca().invert_yaxis() \n",
    "plt.show()\n"
   ]
  },
  {
   "cell_type": "code",
   "execution_count": null,
   "metadata": {},
   "outputs": [],
   "source": [
    "from sklearn.metrics import accuracy_score, precision_score, recall_score, f1_score, confusion_matrix, roc_curve, precision_recall_curve\n",
    "import matplotlib.pyplot as plt\n",
    "\n",
    "# Calculate evaluation metrics\n",
    "accuracy = accuracy_score(y_test, y_pred_encoded)\n",
    "precision = precision_score(y_test, y_pred_encoded, average='macro')\n",
    "recall = recall_score(y_test, y_pred_encoded, average='macro')\n",
    "f1 = f1_score(y_test, y_pred_encoded, average='macro')\n",
    "conf_matrix = confusion_matrix(y_test, y_pred_encoded)\n",
    "\n",
    "# Print evaluation metrics\n",
    "print(\"Prediction Evaluation:\")\n",
    "print(\"Accuracy: {:f}\".format(accuracy))\n",
    "print(\"Precision: {:f}\".format(precision))\n",
    "print(\"Recall: {:f}\".format(recall))\n",
    "print(\"F1-score: {:f}\".format(f1))\n",
    "print(\"Confusion Matrix:\")\n",
    "print(conf_matrix)\n"
   ]
  },
  {
   "cell_type": "code",
   "execution_count": null,
   "metadata": {},
   "outputs": [],
   "source": [
    "X_train, X_test, y_train, y_test = train_test_split(X, y, test_size=0.3, random_state=42)\n",
    "\n",
    "\n",
    "svm_linear = SVC(kernel='linear')\n",
    "svm_poly = SVC(kernel='poly', degree=3)\n",
    "svm_rbf = SVC(kernel='rbf')\n",
    "svm_sigmoid = SVC(kernel='sigmoid')\n",
    "\n",
    "\n",
    "svm_linear.fit(X_train, y_train)\n",
    "svm_poly.fit(X_train, y_train)\n",
    "svm_rbf.fit(X_train, y_train)\n",
    "svm_sigmoid.fit(X_train, y_train)\n",
    "\n",
    "accuracy_linear = svm_linear.score(X_test, y_test)\n",
    "accuracy_poly = svm_poly.score(X_test, y_test)\n",
    "accuracy_rbf = svm_rbf.score(X_test, y_test)\n",
    "accuracy_sigmoid = svm_sigmoid.score(X_test, y_test)\n",
    "\n",
    "print(\"Accuracy (Linear Kernel):\", accuracy_linear)\n",
    "print(\"Accuracy (Polynomial Kernel):\", accuracy_poly)\n",
    "print(\"Accuracy (RBF Kernel):\", accuracy_rbf)\n",
    "print(\"Accuracy (Sigmoid Kernel):\", accuracy_sigmoid)\n"
   ]
  }
 ],
 "metadata": {
  "kernelspec": {
   "display_name": ".venv",
   "language": "python",
   "name": "python3"
  },
  "language_info": {
   "codemirror_mode": {
    "name": "ipython",
    "version": 3
   },
   "file_extension": ".py",
   "mimetype": "text/x-python",
   "name": "python",
   "nbconvert_exporter": "python",
   "pygments_lexer": "ipython3",
   "version": "3.9.18"
  }
 },
 "nbformat": 4,
 "nbformat_minor": 2
}
