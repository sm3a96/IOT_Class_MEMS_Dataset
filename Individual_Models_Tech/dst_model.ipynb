{
 "cells": [
  {
   "cell_type": "code",
   "execution_count": 2,
   "metadata": {},
   "outputs": [
    {
     "name": "stderr",
     "output_type": "stream",
     "text": [
      "/tmp/ipykernel_3881371/4134210481.py:7: DeprecationWarning: \n",
      "Pyarrow will become a required dependency of pandas in the next major release of pandas (pandas 3.0),\n",
      "(to allow more performant data types, such as the Arrow string type, and better interoperability with other libraries)\n",
      "but was not found to be installed on your system.\n",
      "If this would cause problems for you,\n",
      "please provide us feedback at https://github.com/pandas-dev/pandas/issues/54466\n",
      "        \n",
      "  import pandas as pd\n",
      "2024-04-29 21:42:36.566699: I tensorflow/core/util/port.cc:113] oneDNN custom operations are on. You may see slightly different numerical results due to floating-point round-off errors from different computation orders. To turn them off, set the environment variable `TF_ENABLE_ONEDNN_OPTS=0`.\n",
      "2024-04-29 21:42:36.598549: E external/local_xla/xla/stream_executor/cuda/cuda_dnn.cc:9261] Unable to register cuDNN factory: Attempting to register factory for plugin cuDNN when one has already been registered\n",
      "2024-04-29 21:42:36.598575: E external/local_xla/xla/stream_executor/cuda/cuda_fft.cc:607] Unable to register cuFFT factory: Attempting to register factory for plugin cuFFT when one has already been registered\n",
      "2024-04-29 21:42:36.599513: E external/local_xla/xla/stream_executor/cuda/cuda_blas.cc:1515] Unable to register cuBLAS factory: Attempting to register factory for plugin cuBLAS when one has already been registered\n",
      "2024-04-29 21:42:36.605114: I tensorflow/core/platform/cpu_feature_guard.cc:182] This TensorFlow binary is optimized to use available CPU instructions in performance-critical operations.\n",
      "To enable the following instructions: AVX2 AVX512F AVX512_VNNI FMA, in other operations, rebuild TensorFlow with the appropriate compiler flags.\n",
      "2024-04-29 21:42:37.240930: W tensorflow/compiler/tf2tensorrt/utils/py_utils.cc:38] TF-TRT Warning: Could not find TensorRT\n"
     ]
    }
   ],
   "source": [
    "# -*- coding: utf-8 -*- \n",
    "# This code is written in Python 3.7. To install the required packages, run the following commands:\n",
    "# pip install pandas numpy matplotlib seaborn scikit-learn sympy\n",
    "# This code is applicable to the mems dataset. \n",
    "# implemented Decision Tree Classifier. \n",
    "\n",
    "import pandas as pd\n",
    "import matplotlib.pyplot as plt\n",
    "from sklearn.tree import DecisionTreeClassifier\n",
    "from sklearn.metrics import accuracy_score, classification_report,confusion_matrix\n",
    "from sklearn.model_selection import train_test_split\n",
    "import tensorflow as tf\n",
    "import seaborn as sns\n",
    "import time\n",
    "import numpy as np\n"
   ]
  },
  {
   "cell_type": "code",
   "execution_count": 3,
   "metadata": {},
   "outputs": [
    {
     "name": "stdout",
     "output_type": "stream",
     "text": [
      "<class 'pandas.core.frame.DataFrame'>\n",
      "Index: 21563 entries, 0 to 21575\n",
      "Data columns (total 4 columns):\n",
      " #   Column  Non-Null Count  Dtype  \n",
      "---  ------  --------------  -----  \n",
      " 0   x       21563 non-null  float64\n",
      " 1   y       21563 non-null  float64\n",
      " 2   z       21563 non-null  float64\n",
      " 3   label   21563 non-null  int64  \n",
      "dtypes: float64(3), int64(1)\n",
      "memory usage: 842.3 KB\n"
     ]
    }
   ],
   "source": [
    "# Load the cleaned Simargl 2022 dataset\n",
    "df = pd.read_csv('/home/ibibers@ads.iu.edu/IOT/IOT_Datasets/mems_dataset.csv')\n",
    "\n",
    "\n",
    "# Drop duplicates\n",
    "df = df.drop_duplicates(keep='first')\n",
    "\n",
    "# Drop columns that have just one unique value\n",
    "one_value = df.columns[df.nunique() == 1]\n",
    "df = df.drop(columns = one_value, axis=1)\n",
    "\n",
    "df.info()"
   ]
  },
  {
   "cell_type": "code",
   "execution_count": 4,
   "metadata": {},
   "outputs": [
    {
     "name": "stdout",
     "output_type": "stream",
     "text": [
      " Extract subsample of data: \n",
      "label\n",
      "1    10955\n",
      "2     5771\n",
      "3     4837\n",
      "Name: count, dtype: int64\n"
     ]
    }
   ],
   "source": [
    "# X-axis: Represents acceleration along the horizontal axis.\n",
    "# Y-axis: Represents acceleration along the vertical axis.\n",
    "# Z-axis: Represents acceleration along the depth axis.\n",
    "\n",
    "# labels \n",
    "#1. Normal: This label represents the state of the machine when it is operating under normal conditions, without any significant mechanical imbalance or impending failure.\n",
    "#2. Near-failure: This label indicates that the machine is experiencing conditions that suggest it is close to a failure state. These conditions may include early signs of mechanical imbalance or other issues that could lead to failure if not addressed.\n",
    "#3. Failure: This label is assigned when the machine has reached a state of failure, where it is no longer functioning as intended due to mechanical issues or other problems.\n",
    "\n",
    "\n",
    "# Extract subsample of data\n",
    "print (\" Extract subsample of data: \")\n",
    "print(df['label'].value_counts())"
   ]
  },
  {
   "cell_type": "code",
   "execution_count": 5,
   "metadata": {},
   "outputs": [],
   "source": [
    "dropped_df = ['label']\n",
    "X = df.drop(dropped_df, axis=1)\n",
    "y = df['label']\n"
   ]
  },
  {
   "cell_type": "code",
   "execution_count": 6,
   "metadata": {},
   "outputs": [
    {
     "name": "stdout",
     "output_type": "stream",
     "text": [
      "INFO:tensorflow:Using MirroredStrategy with devices ('/job:localhost/replica:0/task:0/device:GPU:0', '/job:localhost/replica:0/task:0/device:GPU:1')\n"
     ]
    },
    {
     "name": "stderr",
     "output_type": "stream",
     "text": [
      "2024-04-29 21:42:38.834400: I tensorflow/core/common_runtime/gpu/gpu_device.cc:1929] Created device /job:localhost/replica:0/task:0/device:GPU:0 with 1046 MB memory:  -> device: 0, name: NVIDIA RTX A6000, pci bus id: 0000:67:00.0, compute capability: 8.6\n",
      "2024-04-29 21:42:38.834972: I tensorflow/core/common_runtime/gpu/gpu_device.cc:1929] Created device /job:localhost/replica:0/task:0/device:GPU:1 with 1047 MB memory:  -> device: 1, name: NVIDIA RTX A6000, pci bus id: 0000:68:00.0, compute capability: 8.6\n"
     ]
    }
   ],
   "source": [
    "start_time = time.time()\n",
    "# Initial train test split set and split the dataset into training and testing sets\n",
    "X_train, X_test, y_train, y_test = train_test_split(X, y, test_size=0.3, random_state=42, stratify=y)\n",
    "\n",
    "# Initialize MirroredStrategy for GPU acceleration\n",
    "strategy = tf.distribute.MirroredStrategy()\n",
    "\n",
    "with strategy.scope():\n",
    "    # Initialize the Decision Tree model\n",
    "    dt_model = DecisionTreeClassifier()\n",
    "\n",
    "    start_train_time = time.time()\n",
    "    # Train DT\n",
    "    dt_model.fit(X_train, y_train)\n",
    "    train_time = time.time() - start_train_time\n",
    "\n",
    "    start_pred_time = time.time()    \n",
    "    # Make predictions \n",
    "    y_pred_encoded = dt_model.predict(X_test)\n",
    "    pred_time = time.time() - start_pred_time\n",
    "\n",
    "total_time = time.time() - start_time"
   ]
  },
  {
   "cell_type": "code",
   "execution_count": 7,
   "metadata": {},
   "outputs": [
    {
     "name": "stdout",
     "output_type": "stream",
     "text": [
      "Time taken for training:0.030546 seconds\n",
      "Time taken for prediction: 0.002004 seconds\n",
      "Total time taken:1.077425 seconds\n"
     ]
    }
   ],
   "source": [
    "print(\"Time taken for training:{:f} seconds\".format(train_time))\n",
    "print(\"Time taken for prediction: {:f} seconds\".format(pred_time))\n",
    "print(\"Total time taken:{:f} seconds\".format(total_time))"
   ]
  },
  {
   "cell_type": "code",
   "execution_count": 8,
   "metadata": {},
   "outputs": [
    {
     "name": "stdout",
     "output_type": "stream",
     "text": [
      "Accuracy: 0.6067398361415984\n"
     ]
    }
   ],
   "source": [
    "# Evaluate the model\n",
    "accuracy = accuracy_score(y_test, y_pred_encoded)\n",
    "print(f\"Accuracy: {accuracy}\")"
   ]
  },
  {
   "cell_type": "code",
   "execution_count": 9,
   "metadata": {},
   "outputs": [
    {
     "name": "stdout",
     "output_type": "stream",
     "text": [
      "\n",
      "Classification Report:\n",
      "              precision    recall  f1-score   support\n",
      "\n",
      "           1       0.65      0.65      0.65      3287\n",
      "           2       0.71      0.69      0.70      1731\n",
      "           3       0.40      0.41      0.40      1451\n",
      "\n",
      "    accuracy                           0.61      6469\n",
      "   macro avg       0.59      0.58      0.58      6469\n",
      "weighted avg       0.61      0.61      0.61      6469\n",
      "\n"
     ]
    }
   ],
   "source": [
    "#  Classificaiton Report \n",
    "print(\"\\nClassification Report:\")\n",
    "print(classification_report(y_test, y_pred_encoded))"
   ]
  },
  {
   "cell_type": "code",
   "execution_count": 10,
   "metadata": {},
   "outputs": [
    {
     "data": {
      "image/png": "[encoded data removed]",
      "text/plain": [
       "<Figure size 600x600 with 1 Axes>"
      ]
     },
     "metadata": {},
     "output_type": "display_data"
    }
   ],
   "source": [
    "\n",
    "# Confusion matrix with string labels\n",
    "conf_mat = confusion_matrix(y_test, y_pred_encoded)\n",
    "\n",
    "# Get unique class labels from y_test and y_pred_encoded\n",
    "unique_labels = np.unique(np.concatenate((y_test, y_pred_encoded)))\n",
    "\n",
    "# Plotting the Confusion Matrix with class labels\n",
    "plt.figure(figsize=(6, 6))\n",
    "sns.heatmap(conf_mat, annot=True, fmt=\"d\", cmap=\"Blues\", cbar=False,\n",
    "            xticklabels=unique_labels, yticklabels=unique_labels)\n",
    "plt.title('Confusion Matrix')\n",
    "plt.xlabel('Predicted')\n",
    "plt.ylabel('Actual')\n",
    "plt.show()"
   ]
  },
  {
   "cell_type": "code",
   "execution_count": 11,
   "metadata": {},
   "outputs": [
    {
     "name": "stderr",
     "output_type": "stream",
     "text": [
      "/tmp/ipykernel_3881371/1047932591.py:7: FutureWarning: \n",
      "\n",
      "Passing `palette` without assigning `hue` is deprecated and will be removed in v0.14.0. Assign the `y` variable to `hue` and set `legend=False` for the same effect.\n",
      "\n",
      "  sns.barplot(x=list(sorted_importance.values()), y=list(sorted_importance.keys()), palette='cubehelix')\n"
     ]
    },
    {
     "data": {
      "image/png": "[encoded data removed]",
      "text/plain": [
       "<Figure size 500x300 with 1 Axes>"
      ]
     },
     "metadata": {},
     "output_type": "display_data"
    }
   ],
   "source": [
    "# importances of features in the decision tree model \n",
    "importance = dt_model.feature_importances_\n",
    "importance_dict = dict(zip(X.columns.values, importance))\n",
    "sorted_importance = dict(sorted(importance_dict.items(), key=lambda x: x[1], reverse=True))\n",
    "\n",
    "plt.figure(figsize=(5, 3))\n",
    "sns.barplot(x=list(sorted_importance.values()), y=list(sorted_importance.keys()), palette='cubehelix')\n",
    "plt.xlabel('Importance Value')\n",
    "plt.ylabel('Feature Name')\n",
    "plt.title('Feature Importance in DT Classifier')\n",
    "plt.show()\n",
    "\n",
    "\n"
   ]
  },
  {
   "cell_type": "code",
   "execution_count": 14,
   "metadata": {},
   "outputs": [
    {
     "name": "stdout",
     "output_type": "stream",
     "text": [
      "Prediction Evaluation:\n",
      "Accuracy: 0.606740\n",
      "Precision: 0.586058\n",
      "Recall: 0.583787\n",
      "F1-score: 0.584860\n",
      "Confusion Matrix:\n",
      "[[2129  392  766]\n",
      " [ 399 1203  129]\n",
      " [ 767   91  593]]\n"
     ]
    }
   ],
   "source": [
    "from sklearn.metrics import accuracy_score, precision_score, recall_score, f1_score, confusion_matrix, roc_curve, precision_recall_curve\n",
    "import matplotlib.pyplot as plt\n",
    "\n",
    "# Calculate evaluation metrics\n",
    "accuracy = accuracy_score(y_test, y_pred_encoded)\n",
    "precision = precision_score(y_test, y_pred_encoded, average='macro')\n",
    "recall = recall_score(y_test, y_pred_encoded, average='macro')\n",
    "f1 = f1_score(y_test, y_pred_encoded, average='macro')\n",
    "conf_matrix = confusion_matrix(y_test, y_pred_encoded)\n",
    "\n",
    "# Print evaluation metrics\n",
    "print(\"Prediction Evaluation:\")\n",
    "print(\"Accuracy: {:f}\".format(accuracy))\n",
    "print(\"Precision: {:f}\".format(precision))\n",
    "print(\"Recall: {:f}\".format(recall))\n",
    "print(\"F1-score: {:f}\".format(f1))\n",
    "print(\"Confusion Matrix:\")\n",
    "print(conf_matrix)\n"
   ]
  }
 ],
 "metadata": {
  "kernelspec": {
   "display_name": ".venv",
   "language": "python",
   "name": "python3"
  },
  "language_info": {
   "codemirror_mode": {
    "name": "ipython",
    "version": 3
   },
   "file_extension": ".py",
   "mimetype": "text/x-python",
   "name": "python",
   "nbconvert_exporter": "python",
   "pygments_lexer": "ipython3",
   "version": "3.9.18"
  }
 },
 "nbformat": 4,
 "nbformat_minor": 2
}
