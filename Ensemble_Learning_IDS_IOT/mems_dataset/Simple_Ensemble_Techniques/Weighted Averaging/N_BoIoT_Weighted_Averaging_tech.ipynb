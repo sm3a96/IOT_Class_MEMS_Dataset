{
 "cells": [
  {
   "cell_type": "code",
   "execution_count": 1,
   "metadata": {},
   "outputs": [
    {
     "name": "stderr",
     "output_type": "stream",
     "text": [
      "2024-05-27 23:35:41.710166: I tensorflow/core/util/port.cc:113] oneDNN custom operations are on. You may see slightly different numerical results due to floating-point round-off errors from different computation orders. To turn them off, set the environment variable `TF_ENABLE_ONEDNN_OPTS=0`.\n",
      "2024-05-27 23:35:41.748838: I tensorflow/core/platform/cpu_feature_guard.cc:210] This TensorFlow binary is optimized to use available CPU instructions in performance-critical operations.\n",
      "To enable the following instructions: AVX2 AVX512F AVX512_VNNI FMA, in other operations, rebuild TensorFlow with the appropriate compiler flags.\n",
      "2024-05-27 23:35:42.447362: W tensorflow/compiler/tf2tensorrt/utils/py_utils.cc:38] TF-TRT Warning: Could not find TensorRT\n"
     ]
    }
   ],
   "source": [
    "# -*- coding: utf-8 -*- \n",
    "# This code is written in Python 3.7. To install the required packages, run the following commands:\n",
    "# pip install pandas numpy matplotlib seaborn scikit-learn sympy\n",
    "# This code is applicable to the N_BaIoT dataset. \n",
    "# implemented Simple Ensamble Learning ('whighted Averaging') \n",
    "\n",
    "import pandas as pd\n",
    "from sklearn.model_selection import train_test_split\n",
    "import matplotlib.pyplot as plt\n",
    "from sklearn.linear_model import LogisticRegression\n",
    "from sklearn.svm import SVC\n",
    "from sklearn.ensemble import RandomForestClassifier\n",
    "from sklearn.neighbors import KNeighborsClassifier\n",
    "from sklearn.ensemble import VotingClassifier\n",
    "from sklearn.tree import DecisionTreeClassifier\n",
    "import tensorflow as tf\n",
    "import numpy as np\n",
    "from sklearn.metrics import accuracy_score, classification_report\n",
    "from sklearn.metrics import confusion_matrix\n",
    "import seaborn as sns\n",
    "import time "
   ]
  },
  {
   "cell_type": "code",
   "execution_count": 2,
   "metadata": {},
   "outputs": [
    {
     "name": "stdout",
     "output_type": "stream",
     "text": [
      "<class 'pandas.core.frame.DataFrame'>\n",
      "Index: 115936 entries, 0 to 119999\n",
      "Columns: 116 entries, MI_dir_L5_weight to label\n",
      "dtypes: float64(115), int64(1)\n",
      "memory usage: 103.5 MB\n"
     ]
    }
   ],
   "source": [
    "df = pd.read_csv('/home/ibibers@ads.iu.edu/IOT_Datasets/device7.csv')\n",
    "\n",
    "# Drop duplicates\n",
    "df = df.drop_duplicates(keep='first')\n",
    "\n",
    "# Drop columns that have just one unique value\n",
    "one_value = df.columns[df.nunique() == 1]\n",
    "df = df.drop(columns = one_value, axis=1)\n",
    "\n",
    "df.info()"
   ]
  },
  {
   "cell_type": "code",
   "execution_count": 3,
   "metadata": {},
   "outputs": [
    {
     "name": "stdout",
     "output_type": "stream",
     "text": [
      " Extract subsample of data: \n",
      "label\n",
      "4    20000\n",
      "3    20000\n",
      "6    20000\n",
      "1    19623\n",
      "5    18157\n",
      "2    18156\n",
      "Name: count, dtype: int64\n"
     ]
    }
   ],
   "source": [
    "\n",
    "# Extract subsample of data\n",
    "print (\" Extract subsample of data: \")\n",
    "print(df['label'].value_counts())"
   ]
  },
  {
   "cell_type": "code",
   "execution_count": 4,
   "metadata": {},
   "outputs": [],
   "source": [
    "dropped_df = ['label']\n",
    "X = df.drop(dropped_df, axis=1)\n",
    "y = df['label']\n"
   ]
  },
  {
   "cell_type": "code",
   "execution_count": 5,
   "metadata": {},
   "outputs": [
    {
     "name": "stderr",
     "output_type": "stream",
     "text": [
      "/home/ibibers@ads.iu.edu/micromamba/lib/python3.9/site-packages/sklearn/linear_model/_logistic.py:469: ConvergenceWarning: lbfgs failed to converge (status=1):\n",
      "STOP: TOTAL NO. of ITERATIONS REACHED LIMIT.\n",
      "\n",
      "Increase the number of iterations (max_iter) or scale the data as shown in:\n",
      "    https://scikit-learn.org/stable/modules/preprocessing.html\n",
      "Please also refer to the documentation for alternative solver options:\n",
      "    https://scikit-learn.org/stable/modules/linear_model.html#logistic-regression\n",
      "  n_iter_i = _check_optimize_result(\n"
     ]
    }
   ],
   "source": [
    "start_time = time.time()\n",
    "X_train, X_test, y_train, y_test = train_test_split(X, y, test_size=0.3, random_state=42)\n",
    "\n",
    "model1 = KNeighborsClassifier()\n",
    "model2 = DecisionTreeClassifier()   \n",
    "model3 = LogisticRegression(solver='lbfgs', multi_class='multinomial')  \n",
    "model4 = RandomForestClassifier(n_estimators=100, random_state=42)\n",
    "\n",
    "ensemble = VotingClassifier(estimators=[('knn', model1), ('svc', model2), ('lr', model3) , ('rf', model4)],\n",
    "                            voting='hard', weights=[0.1, 0.3, 0.3 , 0.3])  \n",
    "    \n",
    "start_train_time = time.time()\n",
    "ensemble.fit(X_train, y_train)  \n",
    "train_time = time.time() - start_train_time\n",
    "\n",
    "# Make predictions\n",
    "start_pred_time = time.time()   \n",
    "y_pred = ensemble.predict(X_test) \n",
    "pred_time = time.time() - start_pred_time\n",
    "\n",
    "total_time = time.time() - start_time\n"
   ]
  },
  {
   "cell_type": "code",
   "execution_count": 6,
   "metadata": {},
   "outputs": [
    {
     "name": "stdout",
     "output_type": "stream",
     "text": [
      "Time taken for training:30.625271 seconds\n",
      "Time taken for prediction: 4.078926 seconds\n",
      "Total time taken:34.806501 seconds\n"
     ]
    }
   ],
   "source": [
    "print(\"Time taken for training:{:f} seconds\".format(train_time))\n",
    "print(\"Time taken for prediction: {:f} seconds\".format(pred_time))\n",
    "print(\"Total time taken:{:f} seconds\".format(total_time))"
   ]
  },
  {
   "cell_type": "code",
   "execution_count": 7,
   "metadata": {},
   "outputs": [
    {
     "name": "stdout",
     "output_type": "stream",
     "text": [
      "Accuracy: 0.999338719415773\n"
     ]
    }
   ],
   "source": [
    "# Evaluate the model \n",
    "accuracy = accuracy_score(y_test, y_pred)\n",
    "print(f\"Accuracy: {accuracy}\")"
   ]
  },
  {
   "cell_type": "code",
   "execution_count": 8,
   "metadata": {},
   "outputs": [
    {
     "name": "stdout",
     "output_type": "stream",
     "text": [
      "\n",
      "Classification Report:\n",
      "              precision    recall  f1-score   support\n",
      "\n",
      "           1       1.00      1.00      1.00      5892\n",
      "           2       1.00      1.00      1.00      5481\n",
      "           3       1.00      1.00      1.00      6147\n",
      "           4       1.00      1.00      1.00      5966\n",
      "           5       1.00      1.00      1.00      5433\n",
      "           6       1.00      1.00      1.00      5862\n",
      "\n",
      "    accuracy                           1.00     34781\n",
      "   macro avg       1.00      1.00      1.00     34781\n",
      "weighted avg       1.00      1.00      1.00     34781\n",
      "\n"
     ]
    }
   ],
   "source": [
    "#  Classificaiton Report \n",
    "print(\"\\nClassification Report:\")\n",
    "print(classification_report(y_test, y_pred))"
   ]
  },
  {
   "cell_type": "code",
   "execution_count": 9,
   "metadata": {},
   "outputs": [
    {
     "data": {
      "image/png": "[encoded data removed]",
      "text/plain": [
       "<Figure size 600x600 with 1 Axes>"
      ]
     },
     "metadata": {},
     "output_type": "display_data"
    }
   ],
   "source": [
    "# Confusion matrix with string labels\n",
    "conf_mat = confusion_matrix(y_test, y_pred)\n",
    "\n",
    "# Get unique class labels from y_test and y_pred_encoded\n",
    "unique_labels = np.unique(np.concatenate((y_test, y_pred)))\n",
    "\n",
    "# Plotting the Confusion Matrix with class labels\n",
    "plt.figure(figsize=(6, 6))\n",
    "sns.heatmap(conf_mat, annot=True, fmt=\"d\", cmap=\"Blues\", cbar=False,\n",
    "            xticklabels=unique_labels, yticklabels=unique_labels)\n",
    "plt.title('Confusion Matrix')\n",
    "plt.xlabel('Predicted')\n",
    "plt.ylabel('Actual')\n",
    "plt.show()"
   ]
  }
 ],
 "metadata": {
  "kernelspec": {
   "display_name": ".venv",
   "language": "python",
   "name": "python3"
  },
  "language_info": {
   "codemirror_mode": {
    "name": "ipython",
    "version": 3
   },
   "file_extension": ".py",
   "mimetype": "text/x-python",
   "name": "python",
   "nbconvert_exporter": "python",
   "pygments_lexer": "ipython3",
   "version": "3.9.18"
  }
 },
 "nbformat": 4,
 "nbformat_minor": 2
}
