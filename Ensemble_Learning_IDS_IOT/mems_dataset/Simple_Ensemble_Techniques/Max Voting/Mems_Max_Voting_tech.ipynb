{
 "cells": [
  {
   "cell_type": "code",
   "execution_count": 1,
   "metadata": {},
   "outputs": [],
   "source": [
    "# -*- coding: utf-8 -*- \n",
    "# This code is written in Python 3.7. To install the required packages, run the following commands:\n",
    "# pip install pandas numpy matplotlib seaborn scikit-learn sympy\n",
    "# This code is applicable to the mems dataset. \n",
    "# implemented Max Voting tech. \n",
    "\n",
    "import pandas as pd\n",
    "from sklearn.model_selection import train_test_split\n",
    "import matplotlib.pyplot as plt\n",
    "from sklearn.linear_model import LogisticRegression\n",
    "from sklearn.ensemble import RandomForestClassifier\n",
    "from sklearn.ensemble import VotingClassifier\n",
    "from sklearn.neighbors import KNeighborsClassifier\n",
    "from sklearn.metrics import accuracy_score, classification_report\n",
    "from sklearn.metrics import confusion_matrix\n",
    "import seaborn as sns\n",
    "from sklearn.svm import SVC\n",
    "import time\n",
    "import numpy as np\n"
   ]
  },
  {
   "cell_type": "code",
   "execution_count": 2,
   "metadata": {},
   "outputs": [
    {
     "name": "stdout",
     "output_type": "stream",
     "text": [
      "<class 'pandas.core.frame.DataFrame'>\n",
      "Index: 21563 entries, 0 to 21575\n",
      "Data columns (total 4 columns):\n",
      " #   Column  Non-Null Count  Dtype  \n",
      "---  ------  --------------  -----  \n",
      " 0   x       21563 non-null  float64\n",
      " 1   y       21563 non-null  float64\n",
      " 2   z       21563 non-null  float64\n",
      " 3   label   21563 non-null  int64  \n",
      "dtypes: float64(3), int64(1)\n",
      "memory usage: 842.3 KB\n"
     ]
    }
   ],
   "source": [
    "# Load the cleaned Simargl 2022 dataset\n",
    "df = pd.read_csv('/home/ibibers@ads.iu.edu/IOT/IOT_Datasets/mems_dataset.csv')\n",
    "\n",
    "# Drop duplicates\n",
    "df = df.drop_duplicates(keep='first')\n",
    "\n",
    "# Drop columns that have just one unique value\n",
    "one_value = df.columns[df.nunique() == 1]\n",
    "df = df.drop(columns = one_value, axis=1)\n",
    "\n",
    "df.info()"
   ]
  },
  {
   "cell_type": "code",
   "execution_count": 3,
   "metadata": {},
   "outputs": [
    {
     "name": "stdout",
     "output_type": "stream",
     "text": [
      " Extract subsample of data: \n",
      "label\n",
      "1    10955\n",
      "2     5771\n",
      "3     4837\n",
      "Name: count, dtype: int64\n"
     ]
    }
   ],
   "source": [
    "# X-axis: Represents acceleration along the horizontal axis.\n",
    "# Y-axis: Represents acceleration along the vertical axis.\n",
    "# Z-axis: Represents acceleration along the depth axis.\n",
    "\n",
    "# labels \n",
    "#1. Normal: This label represents the state of the machine when it is operating under normal conditions, without any significant mechanical imbalance or impending failure.\n",
    "#2. Near-failure: This label indicates that the machine is experiencing conditions that suggest it is close to a failure state. These conditions may include early signs of mechanical imbalance or other issues that could lead to failure if not addressed.\n",
    "#3. Failure: This label is assigned when the machine has reached a state of failure, where it is no longer functioning as intended due to mechanical issues or other problems.\n",
    "\n",
    "\n",
    "# Extract subsample of data\n",
    "print (\" Extract subsample of data: \")\n",
    "print(df['label'].value_counts())"
   ]
  },
  {
   "cell_type": "code",
   "execution_count": 4,
   "metadata": {},
   "outputs": [],
   "source": [
    "dropped_df = ['label']\n",
    "X = df.drop(dropped_df, axis=1)\n",
    "y = df['label']\n"
   ]
  },
  {
   "cell_type": "code",
   "execution_count": 5,
   "metadata": {},
   "outputs": [],
   "source": [
    "start_time = time.time()\n",
    "X_train, X_test, y_train, y_test = train_test_split(X, y, test_size=0.3, random_state=42)\n",
    "\n",
    "# Define individual models\n",
    "model1 = KNeighborsClassifier()\n",
    "model2 = SVC(kernel='rbf', probability=True)  \n",
    "model3 = LogisticRegression(solver='lbfgs', multi_class='multinomial')  \n",
    "model4 = RandomForestClassifier(n_estimators=100, random_state=42)\n",
    "\n",
    "# Combine models using VotingClassifier\n",
    "ensemble_model = VotingClassifier(estimators=[('knn', model1), ('svc', model2), ('lr', model3) , ('rf' , model4)], voting='hard')\n",
    "\n",
    "start_train_time = time.time()\n",
    "# Train the ensemble model\n",
    "ensemble_model.fit(X_train, y_train)\n",
    "train_time = time.time() - start_train_time\n",
    "\n",
    "\n",
    "start_pred_time = time.time()    \n",
    "# Make predictions on new data (X_test)\n",
    "y_pred = ensemble_model.predict(X_test)\n",
    "pred_time = time.time() - start_pred_time\n",
    "\n",
    "total_time = time.time() - start_time"
   ]
  },
  {
   "cell_type": "code",
   "execution_count": 6,
   "metadata": {},
   "outputs": [
    {
     "name": "stdout",
     "output_type": "stream",
     "text": [
      "Time taken for training:26.769455 seconds\n",
      "Time taken for prediction: 2.568839 seconds\n",
      "Total time taken:29.344405 seconds\n"
     ]
    }
   ],
   "source": [
    "print(\"Time taken for training:{:f} seconds\".format(train_time))\n",
    "print(\"Time taken for prediction: {:f} seconds\".format(pred_time))\n",
    "print(\"Total time taken:{:f} seconds\".format(total_time))"
   ]
  },
  {
   "cell_type": "code",
   "execution_count": 7,
   "metadata": {},
   "outputs": [
    {
     "name": "stdout",
     "output_type": "stream",
     "text": [
      "Accuracy: 0.6993352913897047\n"
     ]
    }
   ],
   "source": [
    "# Evaluate the model\n",
    "accuracy = accuracy_score(y_test, y_pred)\n",
    "print(\"Accuracy:\" ,accuracy)\n",
    "\n",
    "# Without RF Accuracy: 0.6946977894574122"
   ]
  },
  {
   "cell_type": "code",
   "execution_count": 8,
   "metadata": {},
   "outputs": [
    {
     "name": "stdout",
     "output_type": "stream",
     "text": [
      "\n",
      "Classification Report:\n",
      "              precision    recall  f1-score   support\n",
      "\n",
      "           1       0.65      0.91      0.76      3283\n",
      "           2       0.84      0.72      0.78      1696\n",
      "           3       0.73      0.21      0.33      1490\n",
      "\n",
      "    accuracy                           0.70      6469\n",
      "   macro avg       0.74      0.61      0.62      6469\n",
      "weighted avg       0.72      0.70      0.66      6469\n",
      "\n"
     ]
    }
   ],
   "source": [
    "#  Classificaiton Report \n",
    "print(\"\\nClassification Report:\")\n",
    "print(classification_report(y_test, y_pred))"
   ]
  },
  {
   "cell_type": "code",
   "execution_count": 9,
   "metadata": {},
   "outputs": [
    {
     "data": {
      "image/png": "[encoded data removed]",
      "text/plain": [
       "<Figure size 800x600 with 1 Axes>"
      ]
     },
     "metadata": {},
     "output_type": "display_data"
    }
   ],
   "source": [
    "# Generate confusion matrix\n",
    "conf_matrix = confusion_matrix(y_test, y_pred)\n",
    "plt.figure(figsize=(8, 6))\n",
    "sns.heatmap(conf_matrix, annot=True, fmt='d', cmap='Blues', cbar=False)\n",
    "plt.xlabel('Predicted Labels')\n",
    "plt.ylabel('True Labels')\n",
    "plt.title('Confusion Matrix')\n",
    "plt.show()"
   ]
  },
  {
   "cell_type": "code",
   "execution_count": 10,
   "metadata": {},
   "outputs": [
    {
     "name": "stderr",
     "output_type": "stream",
     "text": [
      "/tmp/ipykernel_6518/3558881952.py:36: FutureWarning: \n",
      "\n",
      "Passing `palette` without assigning `hue` is deprecated and will be removed in v0.14.0. Assign the `y` variable to `hue` and set `legend=False` for the same effect.\n",
      "\n",
      "  sns.barplot(x=list(sorted_importance.values()), y=list(sorted_importance.keys()), palette='cubehelix')\n"
     ]
    },
    {
     "data": {
      "image/png": "[encoded data removed]",
      "text/plain": [
       "<Figure size 800x600 with 1 Axes>"
      ]
     },
     "metadata": {},
     "output_type": "display_data"
    }
   ],
   "source": [
    "\n",
    "# Fit models individually before computing feature importance\n",
    "model1.fit(X_train, y_train)\n",
    "model2.fit(X_train, y_train)\n",
    "model3.fit(X_train, y_train)\n",
    "# Calculate feature importance indirectly using permutation importance for KNeighborsClassifier and SVC\n",
    "feature_importance = {}\n",
    "\n",
    "# Permutation importance for KNeighborsClassifier\n",
    "# Note: This is computationally expensive, especially for large datasets\n",
    "from sklearn.inspection import permutation_importance\n",
    "knn_perm_importance = permutation_importance(model1, X_test, y_test, n_repeats=30, random_state=42)\n",
    "for i, column in enumerate(X.columns):\n",
    "    feature_importance[column] = knn_perm_importance.importances_mean[i]\n",
    "\n",
    "# Permutation importance for SVC\n",
    "# Note: This is also computationally expensive\n",
    "svc_perm_importance = permutation_importance(model2, X_test, y_test, n_repeats=30, random_state=42)\n",
    "for i, column in enumerate(X.columns):\n",
    "    feature_importance[column] += svc_perm_importance.importances_mean[i]\n",
    "\n",
    "# Coefficients for LogisticRegression\n",
    "log_reg_coef = np.abs(model3.coef_[0])\n",
    "for i, column in enumerate(X.columns):\n",
    "    feature_importance[column] += log_reg_coef[i]\n",
    "\n",
    "# Normalize feature importance\n",
    "total_importance = sum(feature_importance.values())\n",
    "for key in feature_importance:\n",
    "    feature_importance[key] /= total_importance\n",
    "\n",
    "# Sort feature importance\n",
    "sorted_importance = dict(sorted(feature_importance.items(), key=lambda x: x[1], reverse=True))\n",
    "\n",
    "# Plot the feature importance\n",
    "plt.figure(figsize=(8, 6))\n",
    "sns.barplot(x=list(sorted_importance.values()), y=list(sorted_importance.keys()), palette='cubehelix')\n",
    "plt.xlabel('Importance Value')\n",
    "plt.ylabel('Feature Name')\n",
    "plt.title('Feature Importance in Voting Classifier')\n",
    "plt.show()"
   ]
  }
 ],
 "metadata": {
  "kernelspec": {
   "display_name": ".venv",
   "language": "python",
   "name": "python3"
  },
  "language_info": {
   "codemirror_mode": {
    "name": "ipython",
    "version": 3
   },
   "file_extension": ".py",
   "mimetype": "text/x-python",
   "name": "python",
   "nbconvert_exporter": "python",
   "pygments_lexer": "ipython3",
   "version": "3.9.18"
  }
 },
 "nbformat": 4,
 "nbformat_minor": 2
}
