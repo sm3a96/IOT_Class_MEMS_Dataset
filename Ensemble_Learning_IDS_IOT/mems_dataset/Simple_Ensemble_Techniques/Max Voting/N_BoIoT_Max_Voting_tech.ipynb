{
 "cells": [
  {
   "cell_type": "code",
   "execution_count": 1,
   "metadata": {},
   "outputs": [],
   "source": [
    "# -*- coding: utf-8 -*- \n",
    "# This code is written in Python 3.7. To install the required packages, run the following commands:\n",
    "# pip install pandas numpy matplotlib seaborn scikit-learn sympy\n",
    "# This code is applicable to the N_BaIoT dataset. \n",
    "# implemented Max Voting tech. \n",
    "\n",
    "import pandas as pd\n",
    "from sklearn.model_selection import train_test_split\n",
    "import matplotlib.pyplot as plt\n",
    "from sklearn.linear_model import LogisticRegression\n",
    "from sklearn.ensemble import RandomForestClassifier\n",
    "from sklearn.ensemble import VotingClassifier\n",
    "from sklearn.neighbors import KNeighborsClassifier\n",
    "from sklearn.tree import DecisionTreeClassifier\n",
    "from sklearn.metrics import accuracy_score, classification_report\n",
    "from sklearn.metrics import confusion_matrix\n",
    "import seaborn as sns\n",
    "from sklearn.svm import SVC\n",
    "import time\n",
    "import numpy as np\n"
   ]
  },
  {
   "cell_type": "code",
   "execution_count": 2,
   "metadata": {},
   "outputs": [
    {
     "name": "stdout",
     "output_type": "stream",
     "text": [
      "<class 'pandas.core.frame.DataFrame'>\n",
      "Index: 115936 entries, 0 to 119999\n",
      "Columns: 116 entries, MI_dir_L5_weight to label\n",
      "dtypes: float64(115), int64(1)\n",
      "memory usage: 103.5 MB\n"
     ]
    }
   ],
   "source": [
    "\n",
    "df = pd.read_csv('/home/ibibers@ads.iu.edu/IOT_Datasets/device7.csv')\n",
    "\n",
    "\n",
    "# Drop duplicates\n",
    "df = df.drop_duplicates(keep='first')\n",
    "\n",
    "# Drop columns that have just one unique value\n",
    "one_value = df.columns[df.nunique() == 1]\n",
    "df = df.drop(columns = one_value, axis=1)\n",
    "\n",
    "df.info()"
   ]
  },
  {
   "cell_type": "code",
   "execution_count": 3,
   "metadata": {},
   "outputs": [
    {
     "name": "stdout",
     "output_type": "stream",
     "text": [
      " Extract subsample of data: \n",
      "label\n",
      "4    20000\n",
      "3    20000\n",
      "6    20000\n",
      "1    19623\n",
      "5    18157\n",
      "2    18156\n",
      "Name: count, dtype: int64\n"
     ]
    }
   ],
   "source": [
    "\n",
    "\n",
    "# Extract subsample of data\n",
    "print (\" Extract subsample of data: \")\n",
    "print(df['label'].value_counts())"
   ]
  },
  {
   "cell_type": "code",
   "execution_count": 4,
   "metadata": {},
   "outputs": [],
   "source": [
    "dropped_df = ['label']\n",
    "X = df.drop(dropped_df, axis=1)\n",
    "y = df['label']\n"
   ]
  },
  {
   "cell_type": "code",
   "execution_count": 5,
   "metadata": {},
   "outputs": [
    {
     "name": "stderr",
     "output_type": "stream",
     "text": [
      "/home/ibibers@ads.iu.edu/micromamba/lib/python3.9/site-packages/sklearn/linear_model/_logistic.py:469: ConvergenceWarning: lbfgs failed to converge (status=1):\n",
      "STOP: TOTAL NO. of ITERATIONS REACHED LIMIT.\n",
      "\n",
      "Increase the number of iterations (max_iter) or scale the data as shown in:\n",
      "    https://scikit-learn.org/stable/modules/preprocessing.html\n",
      "Please also refer to the documentation for alternative solver options:\n",
      "    https://scikit-learn.org/stable/modules/linear_model.html#logistic-regression\n",
      "  n_iter_i = _check_optimize_result(\n"
     ]
    }
   ],
   "source": [
    "start_time = time.time()\n",
    "X_train, X_test, y_train, y_test = train_test_split(X, y, test_size=0.3, random_state=42)\n",
    "\n",
    "# Define individual models\n",
    "model1 = KNeighborsClassifier()\n",
    "model2 = DecisionTreeClassifier()  \n",
    "model3 = LogisticRegression(solver='lbfgs', multi_class='multinomial')  \n",
    "model4 = RandomForestClassifier(n_estimators=100, random_state=42)\n",
    "\n",
    "# Combine models using VotingClassifier\n",
    "ensemble_model = VotingClassifier(estimators=[('knn', model1), ('dst', model2), ('lr', model3) , ('rf' , model4)], voting='hard')\n",
    "\n",
    "start_train_time = time.time()\n",
    "# Train the ensemble model\n",
    "ensemble_model.fit(X_train, y_train)\n",
    "train_time = time.time() - start_train_time\n",
    "\n",
    "\n",
    "start_pred_time = time.time()    \n",
    "# Make predictions on new data (X_test)\n",
    "y_pred = ensemble_model.predict(X_test)\n",
    "pred_time = time.time() - start_pred_time\n",
    "\n",
    "total_time = time.time() - start_time"
   ]
  },
  {
   "cell_type": "code",
   "execution_count": 6,
   "metadata": {},
   "outputs": [
    {
     "name": "stdout",
     "output_type": "stream",
     "text": [
      "Time taken for training:29.316977 seconds\n",
      "Time taken for prediction: 4.577403 seconds\n",
      "Total time taken:34.003065 seconds\n"
     ]
    }
   ],
   "source": [
    "print(\"Time taken for training:{:f} seconds\".format(train_time))\n",
    "print(\"Time taken for prediction: {:f} seconds\".format(pred_time))\n",
    "print(\"Total time taken:{:f} seconds\".format(total_time))"
   ]
  },
  {
   "cell_type": "code",
   "execution_count": 7,
   "metadata": {},
   "outputs": [
    {
     "name": "stdout",
     "output_type": "stream",
     "text": [
      "Accuracy: 0.9956585492079009\n"
     ]
    }
   ],
   "source": [
    "# Evaluate the model\n",
    "accuracy = accuracy_score(y_test, y_pred)\n",
    "print(\"Accuracy:\" ,accuracy)\n",
    "\n",
    "# Without RF Accuracy: 0.6946977894574122"
   ]
  },
  {
   "cell_type": "code",
   "execution_count": 8,
   "metadata": {},
   "outputs": [
    {
     "name": "stdout",
     "output_type": "stream",
     "text": [
      "\n",
      "Classification Report:\n",
      "              precision    recall  f1-score   support\n",
      "\n",
      "           1       0.98      1.00      0.99      5892\n",
      "           2       1.00      1.00      1.00      5481\n",
      "           3       1.00      1.00      1.00      6147\n",
      "           4       1.00      0.98      0.99      5966\n",
      "           5       1.00      1.00      1.00      5433\n",
      "           6       1.00      1.00      1.00      5862\n",
      "\n",
      "    accuracy                           1.00     34781\n",
      "   macro avg       1.00      1.00      1.00     34781\n",
      "weighted avg       1.00      1.00      1.00     34781\n",
      "\n"
     ]
    }
   ],
   "source": [
    "#  Classificaiton Report \n",
    "print(\"\\nClassification Report:\")\n",
    "print(classification_report(y_test, y_pred))"
   ]
  },
  {
   "cell_type": "code",
   "execution_count": 9,
   "metadata": {},
   "outputs": [
    {
     "data": {
      "image/png": "[encoded data removed]",
      "text/plain": [
       "<Figure size 800x600 with 1 Axes>"
      ]
     },
     "metadata": {},
     "output_type": "display_data"
    }
   ],
   "source": [
    "# Generate confusion matrix\n",
    "conf_matrix = confusion_matrix(y_test, y_pred)\n",
    "plt.figure(figsize=(8, 6))\n",
    "sns.heatmap(conf_matrix, annot=True, fmt='d', cmap='Blues', cbar=False)\n",
    "plt.xlabel('Predicted Labels')\n",
    "plt.ylabel('True Labels')\n",
    "plt.title('Confusion Matrix')\n",
    "plt.show()"
   ]
  },
  {
   "cell_type": "code",
   "execution_count": 10,
   "metadata": {},
   "outputs": [
    {
     "name": "stderr",
     "output_type": "stream",
     "text": [
      "/home/ibibers@ads.iu.edu/micromamba/lib/python3.9/site-packages/sklearn/linear_model/_logistic.py:469: ConvergenceWarning: lbfgs failed to converge (status=1):\n",
      "STOP: TOTAL NO. of ITERATIONS REACHED LIMIT.\n",
      "\n",
      "Increase the number of iterations (max_iter) or scale the data as shown in:\n",
      "    https://scikit-learn.org/stable/modules/preprocessing.html\n",
      "Please also refer to the documentation for alternative solver options:\n",
      "    https://scikit-learn.org/stable/modules/linear_model.html#logistic-regression\n",
      "  n_iter_i = _check_optimize_result(\n"
     ]
    }
   ],
   "source": [
    "\n",
    "# Fit models individually before computing feature importance\n",
    "model1.fit(X_train, y_train)\n",
    "model2.fit(X_train, y_train)\n",
    "model3.fit(X_train, y_train)\n",
    "# Calculate feature importance indirectly using permutation importance for KNeighborsClassifier and SVC\n",
    "feature_importance = {}\n",
    "\n",
    "# Permutation importance for KNeighborsClassifier\n",
    "# Note: This is computationally expensive, especially for large datasets\n",
    "from sklearn.inspection import permutation_importance\n",
    "knn_perm_importance = permutation_importance(model1, X_test, y_test, n_repeats=30, random_state=42)\n",
    "for i, column in enumerate(X.columns):\n",
    "    feature_importance[column] = knn_perm_importance.importances_mean[i]\n",
    "\n",
    "# Permutation importance for SVC\n",
    "# Note: This is also computationally expensive\n",
    "svc_perm_importance = permutation_importance(model2, X_test, y_test, n_repeats=30, random_state=42)\n",
    "for i, column in enumerate(X.columns):\n",
    "    feature_importance[column] += svc_perm_importance.importances_mean[i]\n",
    "\n",
    "# Coefficients for LogisticRegression\n",
    "log_reg_coef = np.abs(model3.coef_[0])\n",
    "for i, column in enumerate(X.columns):\n",
    "    feature_importance[column] += log_reg_coef[i]\n",
    "\n",
    "# Normalize feature importance\n",
    "total_importance = sum(feature_importance.values())\n",
    "for key in feature_importance:\n",
    "    feature_importance[key] /= total_importance\n",
    "\n",
    "# Sort feature importance\n",
    "sorted_importance = dict(sorted(feature_importance.items(), key=lambda x: x[1], reverse=True))\n",
    "\n",
    "# Plot the feature importance\n",
    "plt.figure(figsize=(8, 6))\n",
    "sns.barplot(x=list(sorted_importance.values()), y=list(sorted_importance.keys()), palette='cubehelix')\n",
    "plt.xlabel('Importance Value')\n",
    "plt.ylabel('Feature Name')\n",
    "plt.title('Feature Importance in Voting Classifier')\n",
    "plt.show()"
   ]
  }
 ],
 "metadata": {
  "kernelspec": {
   "display_name": ".venv",
   "language": "python",
   "name": "python3"
  },
  "language_info": {
   "codemirror_mode": {
    "name": "ipython",
    "version": 3
   },
   "file_extension": ".py",
   "mimetype": "text/x-python",
   "name": "python",
   "nbconvert_exporter": "python",
   "pygments_lexer": "ipython3",
   "version": "3.9.18"
  }
 },
 "nbformat": 4,
 "nbformat_minor": 2
}
