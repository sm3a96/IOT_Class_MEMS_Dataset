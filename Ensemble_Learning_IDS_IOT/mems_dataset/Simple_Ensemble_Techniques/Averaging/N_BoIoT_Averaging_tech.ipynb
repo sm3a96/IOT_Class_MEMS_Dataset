{
 "cells": [
  {
   "cell_type": "code",
   "execution_count": 1,
   "metadata": {},
   "outputs": [
    {
     "name": "stdout",
     "output_type": "stream",
     "text": [
      "<class 'pandas.core.frame.DataFrame'>\n",
      "Index: 115936 entries, 0 to 119999\n",
      "Columns: 116 entries, MI_dir_L5_weight to label\n",
      "dtypes: float64(115), int64(1)\n",
      "memory usage: 103.5 MB\n"
     ]
    }
   ],
   "source": [
    "# -*- coding: utf-8 -*- \n",
    "# This code is written in Python 3.7. To install the required packages, run the following commands:\n",
    "# pip install pandas numpy matplotlib seaborn scikit-learn sympy\n",
    "# This code is applicable to the N_BaIoT dataset. \n",
    "# implemented Averaging Soft Voting tech. \n",
    "\n",
    "import pandas as pd\n",
    "from sklearn.model_selection import train_test_split\n",
    "from sklearn.metrics import accuracy_score, classification_report, confusion_matrix\n",
    "import matplotlib.pyplot as plt\n",
    "from sklearn.linear_model import LogisticRegression\n",
    "from sklearn.neighbors import KNeighborsClassifier\n",
    "from sklearn.svm import SVC\n",
    "from sklearn.ensemble import RandomForestClassifier\n",
    "import seaborn as sns\n",
    "from sklearn.ensemble import VotingClassifier\n",
    "from sklearn.tree import DecisionTreeClassifier\n",
    "import time\n",
    "\n",
    "df = pd.read_csv('/home/ibibers@ads.iu.edu/IOT_Datasets/device7.csv')\n",
    "\n",
    "# Drop duplicates\n",
    "df = df.drop_duplicates(keep='first')\n",
    "\n",
    "# Drop columns that have just one unique value\n",
    "one_value = df.columns[df.nunique() == 1]\n",
    "df = df.drop(columns = one_value, axis=1)\n",
    "\n",
    "df.info()\n"
   ]
  },
  {
   "cell_type": "code",
   "execution_count": 2,
   "metadata": {},
   "outputs": [
    {
     "name": "stdout",
     "output_type": "stream",
     "text": [
      " Extract subsample of data: \n",
      "label\n",
      "4    20000\n",
      "3    20000\n",
      "6    20000\n",
      "1    19623\n",
      "5    18157\n",
      "2    18156\n",
      "Name: count, dtype: int64\n"
     ]
    }
   ],
   "source": [
    "\n",
    "# Extract subsample of data\n",
    "print (\" Extract subsample of data: \")\n",
    "print(df['label'].value_counts())"
   ]
  },
  {
   "cell_type": "code",
   "execution_count": 3,
   "metadata": {},
   "outputs": [],
   "source": [
    "dropped_df = ['label']\n",
    "X = df.drop(dropped_df, axis=1)\n",
    "y = df['label']\n"
   ]
  },
  {
   "cell_type": "code",
   "execution_count": 4,
   "metadata": {},
   "outputs": [],
   "source": [
    "# Split the dataset into training and testing sets\n",
    "X_train, X_test, y_train, y_test = train_test_split(X, y, test_size=0.3, random_state=42)"
   ]
  },
  {
   "cell_type": "code",
   "execution_count": 5,
   "metadata": {},
   "outputs": [
    {
     "name": "stderr",
     "output_type": "stream",
     "text": [
      "/home/ibibers@ads.iu.edu/micromamba/lib/python3.9/site-packages/sklearn/linear_model/_logistic.py:469: ConvergenceWarning: lbfgs failed to converge (status=1):\n",
      "STOP: TOTAL NO. of ITERATIONS REACHED LIMIT.\n",
      "\n",
      "Increase the number of iterations (max_iter) or scale the data as shown in:\n",
      "    https://scikit-learn.org/stable/modules/preprocessing.html\n",
      "Please also refer to the documentation for alternative solver options:\n",
      "    https://scikit-learn.org/stable/modules/linear_model.html#logistic-regression\n",
      "  n_iter_i = _check_optimize_result(\n"
     ]
    }
   ],
   "source": [
    "# Initialize models\n",
    "start_time = time.time()\n",
    "model1 = KNeighborsClassifier()\n",
    "model2 = DecisionTreeClassifier()  \n",
    "model3 = LogisticRegression(solver='lbfgs', multi_class='multinomial')  \n",
    "model4 = RandomForestClassifier(n_estimators=200, random_state=42)\n",
    "\n",
    "# Combine models using soft Voting Classifier\n",
    "ensemble_model = VotingClassifier(estimators=[('knn', model1), ('dst', model2), ('lr', model3) , ('rf' , model4)], voting='soft')\n",
    "\n",
    "# Train the ensemble model\n",
    "start_train_time = time.time()\n",
    "ensemble_model.fit(X_train, y_train)\n",
    "train_time = time.time() - start_train_time\n",
    "\n",
    "# Make predictions on new data (X_test)\n",
    "start_pred_time = time.time()  \n",
    "y_pred = ensemble_model.predict(X_test)\n",
    "pred_time = time.time() - start_pred_time\n",
    "\n",
    "total_time = time.time() - start_time\n",
    "\n"
   ]
  },
  {
   "cell_type": "code",
   "execution_count": 6,
   "metadata": {},
   "outputs": [
    {
     "name": "stdout",
     "output_type": "stream",
     "text": [
      "Time taken for training:55.463457 seconds\n",
      "Time taken for prediction: 4.584933 seconds\n",
      "Total time taken:60.048835 seconds\n"
     ]
    }
   ],
   "source": [
    "print(\"Time taken for training:{:f} seconds\".format(train_time))\n",
    "print(\"Time taken for prediction: {:f} seconds\".format(pred_time))\n",
    "print(\"Total time taken:{:f} seconds\".format(total_time))"
   ]
  },
  {
   "cell_type": "code",
   "execution_count": 7,
   "metadata": {},
   "outputs": [
    {
     "name": "stdout",
     "output_type": "stream",
     "text": [
      "Ensemble Model (Soft Voting) Accuracy: 0.999309968086024\n",
      "\n",
      "Ensemble Model (Soft Voting) Classification Report (Rounded):\n",
      "              precision    recall  f1-score   support\n",
      "\n",
      "           1       1.00      1.00      1.00      5892\n",
      "           2       1.00      1.00      1.00      5481\n",
      "           3       1.00      1.00      1.00      6147\n",
      "           4       1.00      1.00      1.00      5966\n",
      "           5       1.00      1.00      1.00      5433\n",
      "           6       1.00      1.00      1.00      5862\n",
      "\n",
      "    accuracy                           1.00     34781\n",
      "   macro avg       1.00      1.00      1.00     34781\n",
      "weighted avg       1.00      1.00      1.00     34781\n",
      "\n"
     ]
    },
    {
     "data": {
      "image/png": "[encoded data removed]",
      "text/plain": [
       "<Figure size 600x400 with 1 Axes>"
      ]
     },
     "metadata": {},
     "output_type": "display_data"
    }
   ],
   "source": [
    "# Evaluate \n",
    "accuracy_final_rounded = accuracy_score(y_test, y_pred)\n",
    "print(\"Ensemble Model (Soft Voting) Accuracy:\", accuracy_final_rounded)\n",
    "\n",
    "# Classification report\n",
    "print(\"\\nEnsemble Model (Soft Voting) Classification Report (Rounded):\")\n",
    "print(classification_report(y_test, y_pred))\n",
    "\n",
    "# Confusion matrix\n",
    "cm_final_rounded = confusion_matrix(y_test, y_pred)\n",
    "\n",
    "# Plot confusion matrix\n",
    "plt.figure(figsize=(6, 4))\n",
    "sns.heatmap(cm_final_rounded, annot=True, cmap='Blues', fmt='d', cbar=False)\n",
    "plt.title('Avg Ensemble Model Confusion Matrix ')\n",
    "plt.xlabel('Predicted')\n",
    "plt.ylabel('Actual')\n",
    "plt.show()\n",
    "\n",
    "\n",
    "# Ensemble Model (Soft Voting) Accuracy without adding the RF: 0.7049002937084557"
   ]
  }
 ],
 "metadata": {
  "kernelspec": {
   "display_name": ".venv",
   "language": "python",
   "name": "python3"
  },
  "language_info": {
   "codemirror_mode": {
    "name": "ipython",
    "version": 3
   },
   "file_extension": ".py",
   "mimetype": "text/x-python",
   "name": "python",
   "nbconvert_exporter": "python",
   "pygments_lexer": "ipython3",
   "version": "3.9.18"
  }
 },
 "nbformat": 4,
 "nbformat_minor": 2
}
