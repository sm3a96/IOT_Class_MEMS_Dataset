{
 "cells": [
  {
   "cell_type": "code",
   "execution_count": 1,
   "metadata": {},
   "outputs": [],
   "source": [
    "# -*- coding: utf-8 -*-\n",
    "# This code is written in Python 3.7. To install the required packages, run the following commands:\n",
    "# pip install pandas numpy matplotlib seaborn scikit-learn sympy\n",
    "# This code is applicable to the mems dataset.\n",
    "# implemented Adaptive Boosting ADA.\n",
    "\n",
    "\n",
    "import pandas as pd\n",
    "from sklearn.model_selection import train_test_split\n",
    "import matplotlib.pyplot as plt\n",
    "from sklearn.ensemble import AdaBoostClassifier\n",
    "from sklearn.metrics import accuracy_score, classification_report\n",
    "from sklearn.metrics import confusion_matrix\n",
    "import seaborn as sns\n",
    "\n",
    "import numpy as np\n",
    "from sklearn.preprocessing import LabelEncoder\n",
    "import time\n"
   ]
  },
  {
   "cell_type": "code",
   "execution_count": 2,
   "metadata": {},
   "outputs": [
    {
     "name": "stdout",
     "output_type": "stream",
     "text": [
      "<class 'pandas.core.frame.DataFrame'>\n",
      "Index: 21563 entries, 0 to 21575\n",
      "Data columns (total 4 columns):\n",
      " #   Column  Non-Null Count  Dtype  \n",
      "---  ------  --------------  -----  \n",
      " 0   x       21563 non-null  float64\n",
      " 1   y       21563 non-null  float64\n",
      " 2   z       21563 non-null  float64\n",
      " 3   label   21563 non-null  int64  \n",
      "dtypes: float64(3), int64(1)\n",
      "memory usage: 842.3 KB\n"
     ]
    }
   ],
   "source": [
    "# Load mems dataset\n",
    "df = pd.read_csv('/home/ibibers@ads.iu.edu/IOT/IOT_Datasets/mems_dataset.csv')\n",
    "\n",
    "# Drop duplicates\n",
    "df = df.drop_duplicates(keep='first')\n",
    "\n",
    "# Drop columns that have just one unique value\n",
    "one_value = df.columns[df.nunique() == 1]\n",
    "df = df.drop(columns = one_value, axis=1)\n",
    "\n",
    "df.info()"
   ]
  },
  {
   "cell_type": "code",
   "execution_count": 3,
   "metadata": {},
   "outputs": [
    {
     "name": "stdout",
     "output_type": "stream",
     "text": [
      " Extract subsample of data: \n",
      "label\n",
      "1    10955\n",
      "2     5771\n",
      "3     4837\n",
      "Name: count, dtype: int64\n"
     ]
    }
   ],
   "source": [
    "# X-axis: Represents acceleration along the horizontal axis.\n",
    "# Y-axis: Represents acceleration along the vertical axis.\n",
    "# Z-axis: Represents acceleration along the depth axis.\n",
    "\n",
    "# labels \n",
    "#1. Normal: This label represents the state of the machine when it is operating under normal conditions, without any significant mechanical imbalance or impending failure.\n",
    "#2. Near-failure: This label indicates that the machine is experiencing conditions that suggest it is close to a failure state. These conditions may include early signs of mechanical imbalance or other issues that could lead to failure if not addressed.\n",
    "#3. Failure: This label is assigned when the machine has reached a state of failure, where it is no longer functioning as intended due to mechanical issues or other problems.\n",
    "\n",
    "# Extract subsample of data\n",
    "print (\" Extract subsample of data: \")\n",
    "print(df['label'].value_counts())"
   ]
  },
  {
   "cell_type": "code",
   "execution_count": 4,
   "metadata": {},
   "outputs": [],
   "source": [
    "dropped_df = ['label']\n",
    "X = df.drop(dropped_df, axis=1)\n",
    "y = df['label']\n"
   ]
  },
  {
   "cell_type": "code",
   "execution_count": 5,
   "metadata": {},
   "outputs": [
    {
     "name": "stderr",
     "output_type": "stream",
     "text": [
      "/home/ibibers@ads.iu.edu/micromamba/lib/python3.9/site-packages/sklearn/ensemble/_weight_boosting.py:519: FutureWarning: The SAMME.R algorithm (the default) is deprecated and will be removed in 1.6. Use the SAMME algorithm to circumvent this warning.\n",
      "  warnings.warn(\n"
     ]
    }
   ],
   "source": [
    "\n",
    "start_time = time.time()\n",
    "X_train, X_test, y_train, y_test = train_test_split(X, y, test_size=0.3, random_state=42)\n",
    "\n",
    "# AdaBoost \n",
    "AdaB_model = AdaBoostClassifier()\n",
    "\n",
    "start_train_time = time.time()\n",
    "AdaB_model.fit(X_train, y_train)\n",
    "train_time = time.time() - start_train_time\n",
    "\n",
    "start_pred_time = time.time() \n",
    "y_pred = AdaB_model.predict(X_test)\n",
    "pred_time = time.time() - start_pred_time\n",
    "\n",
    "total_time = time.time() - start_time\n",
    "\n",
    "    "
   ]
  },
  {
   "cell_type": "code",
   "execution_count": 6,
   "metadata": {},
   "outputs": [
    {
     "name": "stdout",
     "output_type": "stream",
     "text": [
      "Time taken for training:0.295648 seconds\n",
      "Time taken for prediction: 0.020108 seconds\n",
      "Total time taken:0.321648 seconds\n"
     ]
    }
   ],
   "source": [
    "print(\"Time taken for training:{:f} seconds\".format(train_time))\n",
    "print(\"Time taken for prediction: {:f} seconds\".format(pred_time))\n",
    "print(\"Total time taken:{:f} seconds\".format(total_time))"
   ]
  },
  {
   "cell_type": "code",
   "execution_count": 7,
   "metadata": {},
   "outputs": [
    {
     "name": "stdout",
     "output_type": "stream",
     "text": [
      "Accuracy: 0.6940794558664399\n"
     ]
    }
   ],
   "source": [
    "# Evaluate the model\n",
    "accuracy = accuracy_score(y_test, y_pred)\n",
    "print(f\"Accuracy: {accuracy}\")"
   ]
  },
  {
   "cell_type": "code",
   "execution_count": 8,
   "metadata": {},
   "outputs": [
    {
     "name": "stdout",
     "output_type": "stream",
     "text": [
      "\n",
      "Classification Report:\n",
      "              precision    recall  f1-score   support\n",
      "\n",
      "           1       0.67      0.83      0.74      3283\n",
      "           2       0.77      0.81      0.79      1696\n",
      "           3       0.64      0.26      0.37      1490\n",
      "\n",
      "    accuracy                           0.69      6469\n",
      "   macro avg       0.69      0.63      0.63      6469\n",
      "weighted avg       0.69      0.69      0.67      6469\n",
      "\n"
     ]
    }
   ],
   "source": [
    "# Classification Report\n",
    "print(\"\\nClassification Report:\")\n",
    "print(classification_report(y_test, y_pred))"
   ]
  },
  {
   "cell_type": "code",
   "execution_count": 9,
   "metadata": {},
   "outputs": [
    {
     "data": {
      "image/png": "[encoded data removed]",
      "text/plain": [
       "<Figure size 600x600 with 1 Axes>"
      ]
     },
     "metadata": {},
     "output_type": "display_data"
    }
   ],
   "source": [
    "# Confusion matrix \n",
    "conf_mat = confusion_matrix(y_test, y_pred)\n",
    "\n",
    "# Get unique class labels \n",
    "unique_labels = np.unique(np.concatenate(\n",
    "    (y_test, y_pred)))\n",
    "\n",
    "# Plotting the Confusion Matrix\n",
    "plt.figure(figsize=(6, 6))\n",
    "sns.heatmap(conf_mat, annot=True, fmt=\"d\", cmap=\"Blues\", cbar=False,\n",
    "            xticklabels=unique_labels, yticklabels=unique_labels)\n",
    "plt.title('Confusion Matrix')\n",
    "plt.xlabel('Predicted')\n",
    "plt.ylabel('Actual')\n",
    "plt.show()"
   ]
  },
  {
   "cell_type": "code",
   "execution_count": 12,
   "metadata": {},
   "outputs": [
    {
     "name": "stderr",
     "output_type": "stream",
     "text": [
      "/tmp/ipykernel_7615/532626427.py:8: FutureWarning: \n",
      "\n",
      "Passing `palette` without assigning `hue` is deprecated and will be removed in v0.14.0. Assign the `y` variable to `hue` and set `legend=False` for the same effect.\n",
      "\n",
      "  sns.barplot(x=list(sorted_importance.values()), y=list(\n"
     ]
    },
    {
     "data": {
      "image/png": "[encoded data removed]",
      "text/plain": [
       "<Figure size 400x200 with 1 Axes>"
      ]
     },
     "metadata": {},
     "output_type": "display_data"
    }
   ],
   "source": [
    "# importances of features in the decision tree model\n",
    "importance = AdaB_model.feature_importances_\n",
    "importance_dict = dict(zip(X.columns.values, importance))\n",
    "sorted_importance = dict(\n",
    "    sorted(importance_dict.items(), key=lambda x: x[1], reverse=True))\n",
    "\n",
    "plt.figure(figsize=(4, 2))\n",
    "sns.barplot(x=list(sorted_importance.values()), y=list(\n",
    "    sorted_importance.keys()), palette='cubehelix')\n",
    "plt.xlabel('Importance Value')\n",
    "plt.ylabel('Feature Name')\n",
    "plt.title('Feature Importance in Adaptive Classifier')\n",
    "plt.show()"
   ]
  }
 ],
 "metadata": {
  "kernelspec": {
   "display_name": ".venv",
   "language": "python",
   "name": "python3"
  },
  "language_info": {
   "codemirror_mode": {
    "name": "ipython",
    "version": 3
   },
   "file_extension": ".py",
   "mimetype": "text/x-python",
   "name": "python",
   "nbconvert_exporter": "python",
   "pygments_lexer": "ipython3",
   "version": "3.9.18"
  }
 },
 "nbformat": 4,
 "nbformat_minor": 2
}
